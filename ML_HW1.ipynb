{
  "cells": [
    {
      "cell_type": "markdown",
      "metadata": {
        "id": "OeNwlScJv1pX"
      },
      "source": [
        "# 機器學習 作業1"
      ]
    },
    {
      "cell_type": "markdown",
      "metadata": {
        "id": "G6aq5k9l14U4"
      },
      "source": [
        "### 作業繳交注意事項\n",
        "\n",
        "1. 程式格(Cell)中印出的內容皆須留在上傳的ipynb檔案中，且檔案在路徑正確指向train/test資料夾時須能從頭執行到尾\n",
        "2. 上傳檔名格式為[學號-姓名] (例：m11199987-王大明.ipynb)，檔名格式錯誤扣10分\n",
        "3. 程式碼易讀性、資料處理完整度和結果準確率將作為評分項目"
      ]
    },
    {
      "cell_type": "code",
      "source": [
        "import pandas as pd\n",
        "from sklearn.linear_model import LinearRegression\n",
        "import matplotlib.pyplot as plt\n",
        "from sklearn.preprocessing import OneHotEncoder\n",
        "import numpy as np\n",
        "from sklearn import preprocessing\n",
        "from sklearn.metrics import mean_squared_error\n",
        "from sklearn.preprocessing import LabelEncoder"
      ],
      "metadata": {
        "id": "w7IZD0CK2ZTM"
      },
      "execution_count": 44,
      "outputs": []
    },
    {
      "cell_type": "code",
      "execution_count": 45,
      "metadata": {
        "colab": {
          "base_uri": "https://localhost:8080/"
        },
        "id": "LgOqD6Ne14U4",
        "outputId": "9213481f-5d7a-4a8e-c276-fca539c65dea"
      },
      "outputs": [
        {
          "output_type": "stream",
          "name": "stdout",
          "text": [
            "Drive already mounted at /content/gdrive; to attempt to forcibly remount, call drive.mount(\"/content/gdrive\", force_remount=True).\n"
          ]
        }
      ],
      "source": [
        "# 使用colab讀取Google雲端硬碟內的檔案\n",
        "from google.colab import drive # import Google雲端硬碟套件\n",
        "drive.mount('/content/gdrive') # 將自己的雲端硬碟掛載上去\n",
        "# 透過 gdrive/My Drive/... 來存取檔案\n",
        "\n",
        "#修改為你檔案放的路徑，gdrive/My Drive/指向雲端硬碟的根目錄，例：\n",
        "# train = pd.read_csv('gdrive/My Drive/fourth/ML/Steel Plates Faults(classification)/train.csv')"
      ]
    },
    {
      "cell_type": "markdown",
      "metadata": {
        "id": "iqTYkRij14U5"
      },
      "source": [
        "## 任務1. 回歸"
      ]
    },
    {
      "cell_type": "markdown",
      "metadata": {
        "id": "Xdaygy5V14U5"
      },
      "source": [
        "### 資料描述\n",
        "資料集包含電腦設備的相關資訊，請預測其效能。\n",
        "\n",
        "### 目標\n",
        "1. 請從train.csv檔案中讀取訓練集資料進行回歸模型建模，並對test.csv內的資料進行類別預測，Y_ERP為預測目標，其餘為特徵。\n",
        "2. 將程式碼依照其功能放置於「讀取資料」、「資料前處理」、「建立訓練模型」和「測試資料集上預測」儲存格內\n",
        "3. 在程式碼尾端使用print()印出測試結果的MSE\n",
        "\n",
        "##### 來源\n",
        "*https://archive.ics.uci.edu/ml/datasets/Computer+Hardware*\n",
        "\n",
        "### 程式碼"
      ]
    },
    {
      "cell_type": "code",
      "execution_count": 46,
      "metadata": {
        "id": "iG0crPiH14U5"
      },
      "outputs": [],
      "source": [
        "# ---------------- 讀取資料 -------------------\n",
        "train_q1 = pd.read_csv('gdrive/My Drive/fourth/ML/Computer Hardware(regression)/train.csv')\n",
        "test_q1 = pd.read_csv('gdrive/My Drive/fourth/ML/Computer Hardware(regression)/test.csv')\n",
        "train_q1_y = train_q1['Y_ERP']\n",
        "train_q1 = train_q1.drop([\"Y_ERP\"], axis=1)\n",
        "test_q1_y = test_q1['Y_ERP']\n",
        "test_q1 = test_q1.drop(['Y_ERP'], axis=1)"
      ]
    },
    {
      "cell_type": "code",
      "execution_count": 47,
      "metadata": {
        "colab": {
          "base_uri": "https://localhost:8080/",
          "height": 424
        },
        "id": "8I8W20HG14U5",
        "outputId": "bc150928-62f6-4637-e1d6-7fdcb9ed80bd"
      },
      "outputs": [
        {
          "output_type": "execute_result",
          "data": {
            "text/plain": [
              "     Vendor_Name  Model_Name      MYCT      MMIN      MMAX      CACH  \\\n",
              "0       1.614213   -1.259688 -0.303586 -0.224316 -0.324500 -0.621882   \n",
              "1       0.142148   -0.082874  0.755575 -0.224316 -0.666425 -0.621882   \n",
              "2       0.142148    0.066299  0.081563 -0.224316 -0.666425 -0.424504   \n",
              "3      -1.463741    0.530395 -0.361359  0.059962 -0.478366 -0.621882   \n",
              "4      -1.329916    1.425436  0.447455 -0.675026 -0.580943 -0.523193   \n",
              "..           ...         ...       ...       ...       ...       ...   \n",
              "183    -1.463741    0.430946 -0.234259 -0.608867 -0.580943 -0.621882   \n",
              "184    -1.196092   -1.524885 -0.592448 -0.224316  0.359350 -0.424504   \n",
              "185     1.212740   -0.911616 -0.168784 -0.608867 -0.666425 -0.572537   \n",
              "186    -1.463741    0.414371 -0.141823 -0.605766 -0.837387 -0.424504   \n",
              "187     1.212740   -0.861892 -0.168784 -0.482751 -0.324500 -0.227126   \n",
              "\n",
              "        CHMIN     CHMAX       PRP  \n",
              "0   -0.396851 -0.164563 -0.334207  \n",
              "1   -0.543911 -0.665815 -0.458860  \n",
              "2   -0.249791 -0.473026 -0.446395  \n",
              "3    0.191389  1.763330 -0.184623  \n",
              "4   -0.543911 -0.473026 -0.490023  \n",
              "..        ...       ...       ...  \n",
              "183  0.338449  0.529479 -0.483790  \n",
              "184 -0.249791 -0.473026 -0.284346  \n",
              "185 -0.543911 -0.511583 -0.471325  \n",
              "186 -0.102731 -0.126005 -0.539884  \n",
              "187 -0.543911 -0.164563 -0.284346  \n",
              "\n",
              "[188 rows x 9 columns]"
            ],
            "text/html": [
              "\n",
              "  <div id=\"df-aedaccfe-f59c-4687-bb78-f8e038ffa32f\">\n",
              "    <div class=\"colab-df-container\">\n",
              "      <div>\n",
              "<style scoped>\n",
              "    .dataframe tbody tr th:only-of-type {\n",
              "        vertical-align: middle;\n",
              "    }\n",
              "\n",
              "    .dataframe tbody tr th {\n",
              "        vertical-align: top;\n",
              "    }\n",
              "\n",
              "    .dataframe thead th {\n",
              "        text-align: right;\n",
              "    }\n",
              "</style>\n",
              "<table border=\"1\" class=\"dataframe\">\n",
              "  <thead>\n",
              "    <tr style=\"text-align: right;\">\n",
              "      <th></th>\n",
              "      <th>Vendor_Name</th>\n",
              "      <th>Model_Name</th>\n",
              "      <th>MYCT</th>\n",
              "      <th>MMIN</th>\n",
              "      <th>MMAX</th>\n",
              "      <th>CACH</th>\n",
              "      <th>CHMIN</th>\n",
              "      <th>CHMAX</th>\n",
              "      <th>PRP</th>\n",
              "    </tr>\n",
              "  </thead>\n",
              "  <tbody>\n",
              "    <tr>\n",
              "      <th>0</th>\n",
              "      <td>1.614213</td>\n",
              "      <td>-1.259688</td>\n",
              "      <td>-0.303586</td>\n",
              "      <td>-0.224316</td>\n",
              "      <td>-0.324500</td>\n",
              "      <td>-0.621882</td>\n",
              "      <td>-0.396851</td>\n",
              "      <td>-0.164563</td>\n",
              "      <td>-0.334207</td>\n",
              "    </tr>\n",
              "    <tr>\n",
              "      <th>1</th>\n",
              "      <td>0.142148</td>\n",
              "      <td>-0.082874</td>\n",
              "      <td>0.755575</td>\n",
              "      <td>-0.224316</td>\n",
              "      <td>-0.666425</td>\n",
              "      <td>-0.621882</td>\n",
              "      <td>-0.543911</td>\n",
              "      <td>-0.665815</td>\n",
              "      <td>-0.458860</td>\n",
              "    </tr>\n",
              "    <tr>\n",
              "      <th>2</th>\n",
              "      <td>0.142148</td>\n",
              "      <td>0.066299</td>\n",
              "      <td>0.081563</td>\n",
              "      <td>-0.224316</td>\n",
              "      <td>-0.666425</td>\n",
              "      <td>-0.424504</td>\n",
              "      <td>-0.249791</td>\n",
              "      <td>-0.473026</td>\n",
              "      <td>-0.446395</td>\n",
              "    </tr>\n",
              "    <tr>\n",
              "      <th>3</th>\n",
              "      <td>-1.463741</td>\n",
              "      <td>0.530395</td>\n",
              "      <td>-0.361359</td>\n",
              "      <td>0.059962</td>\n",
              "      <td>-0.478366</td>\n",
              "      <td>-0.621882</td>\n",
              "      <td>0.191389</td>\n",
              "      <td>1.763330</td>\n",
              "      <td>-0.184623</td>\n",
              "    </tr>\n",
              "    <tr>\n",
              "      <th>4</th>\n",
              "      <td>-1.329916</td>\n",
              "      <td>1.425436</td>\n",
              "      <td>0.447455</td>\n",
              "      <td>-0.675026</td>\n",
              "      <td>-0.580943</td>\n",
              "      <td>-0.523193</td>\n",
              "      <td>-0.543911</td>\n",
              "      <td>-0.473026</td>\n",
              "      <td>-0.490023</td>\n",
              "    </tr>\n",
              "    <tr>\n",
              "      <th>...</th>\n",
              "      <td>...</td>\n",
              "      <td>...</td>\n",
              "      <td>...</td>\n",
              "      <td>...</td>\n",
              "      <td>...</td>\n",
              "      <td>...</td>\n",
              "      <td>...</td>\n",
              "      <td>...</td>\n",
              "      <td>...</td>\n",
              "    </tr>\n",
              "    <tr>\n",
              "      <th>183</th>\n",
              "      <td>-1.463741</td>\n",
              "      <td>0.430946</td>\n",
              "      <td>-0.234259</td>\n",
              "      <td>-0.608867</td>\n",
              "      <td>-0.580943</td>\n",
              "      <td>-0.621882</td>\n",
              "      <td>0.338449</td>\n",
              "      <td>0.529479</td>\n",
              "      <td>-0.483790</td>\n",
              "    </tr>\n",
              "    <tr>\n",
              "      <th>184</th>\n",
              "      <td>-1.196092</td>\n",
              "      <td>-1.524885</td>\n",
              "      <td>-0.592448</td>\n",
              "      <td>-0.224316</td>\n",
              "      <td>0.359350</td>\n",
              "      <td>-0.424504</td>\n",
              "      <td>-0.249791</td>\n",
              "      <td>-0.473026</td>\n",
              "      <td>-0.284346</td>\n",
              "    </tr>\n",
              "    <tr>\n",
              "      <th>185</th>\n",
              "      <td>1.212740</td>\n",
              "      <td>-0.911616</td>\n",
              "      <td>-0.168784</td>\n",
              "      <td>-0.608867</td>\n",
              "      <td>-0.666425</td>\n",
              "      <td>-0.572537</td>\n",
              "      <td>-0.543911</td>\n",
              "      <td>-0.511583</td>\n",
              "      <td>-0.471325</td>\n",
              "    </tr>\n",
              "    <tr>\n",
              "      <th>186</th>\n",
              "      <td>-1.463741</td>\n",
              "      <td>0.414371</td>\n",
              "      <td>-0.141823</td>\n",
              "      <td>-0.605766</td>\n",
              "      <td>-0.837387</td>\n",
              "      <td>-0.424504</td>\n",
              "      <td>-0.102731</td>\n",
              "      <td>-0.126005</td>\n",
              "      <td>-0.539884</td>\n",
              "    </tr>\n",
              "    <tr>\n",
              "      <th>187</th>\n",
              "      <td>1.212740</td>\n",
              "      <td>-0.861892</td>\n",
              "      <td>-0.168784</td>\n",
              "      <td>-0.482751</td>\n",
              "      <td>-0.324500</td>\n",
              "      <td>-0.227126</td>\n",
              "      <td>-0.543911</td>\n",
              "      <td>-0.164563</td>\n",
              "      <td>-0.284346</td>\n",
              "    </tr>\n",
              "  </tbody>\n",
              "</table>\n",
              "<p>188 rows × 9 columns</p>\n",
              "</div>\n",
              "      <button class=\"colab-df-convert\" onclick=\"convertToInteractive('df-aedaccfe-f59c-4687-bb78-f8e038ffa32f')\"\n",
              "              title=\"Convert this dataframe to an interactive table.\"\n",
              "              style=\"display:none;\">\n",
              "        \n",
              "  <svg xmlns=\"http://www.w3.org/2000/svg\" height=\"24px\"viewBox=\"0 0 24 24\"\n",
              "       width=\"24px\">\n",
              "    <path d=\"M0 0h24v24H0V0z\" fill=\"none\"/>\n",
              "    <path d=\"M18.56 5.44l.94 2.06.94-2.06 2.06-.94-2.06-.94-.94-2.06-.94 2.06-2.06.94zm-11 1L8.5 8.5l.94-2.06 2.06-.94-2.06-.94L8.5 2.5l-.94 2.06-2.06.94zm10 10l.94 2.06.94-2.06 2.06-.94-2.06-.94-.94-2.06-.94 2.06-2.06.94z\"/><path d=\"M17.41 7.96l-1.37-1.37c-.4-.4-.92-.59-1.43-.59-.52 0-1.04.2-1.43.59L10.3 9.45l-7.72 7.72c-.78.78-.78 2.05 0 2.83L4 21.41c.39.39.9.59 1.41.59.51 0 1.02-.2 1.41-.59l7.78-7.78 2.81-2.81c.8-.78.8-2.07 0-2.86zM5.41 20L4 18.59l7.72-7.72 1.47 1.35L5.41 20z\"/>\n",
              "  </svg>\n",
              "      </button>\n",
              "      \n",
              "  <style>\n",
              "    .colab-df-container {\n",
              "      display:flex;\n",
              "      flex-wrap:wrap;\n",
              "      gap: 12px;\n",
              "    }\n",
              "\n",
              "    .colab-df-convert {\n",
              "      background-color: #E8F0FE;\n",
              "      border: none;\n",
              "      border-radius: 50%;\n",
              "      cursor: pointer;\n",
              "      display: none;\n",
              "      fill: #1967D2;\n",
              "      height: 32px;\n",
              "      padding: 0 0 0 0;\n",
              "      width: 32px;\n",
              "    }\n",
              "\n",
              "    .colab-df-convert:hover {\n",
              "      background-color: #E2EBFA;\n",
              "      box-shadow: 0px 1px 2px rgba(60, 64, 67, 0.3), 0px 1px 3px 1px rgba(60, 64, 67, 0.15);\n",
              "      fill: #174EA6;\n",
              "    }\n",
              "\n",
              "    [theme=dark] .colab-df-convert {\n",
              "      background-color: #3B4455;\n",
              "      fill: #D2E3FC;\n",
              "    }\n",
              "\n",
              "    [theme=dark] .colab-df-convert:hover {\n",
              "      background-color: #434B5C;\n",
              "      box-shadow: 0px 1px 3px 1px rgba(0, 0, 0, 0.15);\n",
              "      filter: drop-shadow(0px 1px 2px rgba(0, 0, 0, 0.3));\n",
              "      fill: #FFFFFF;\n",
              "    }\n",
              "  </style>\n",
              "\n",
              "      <script>\n",
              "        const buttonEl =\n",
              "          document.querySelector('#df-aedaccfe-f59c-4687-bb78-f8e038ffa32f button.colab-df-convert');\n",
              "        buttonEl.style.display =\n",
              "          google.colab.kernel.accessAllowed ? 'block' : 'none';\n",
              "\n",
              "        async function convertToInteractive(key) {\n",
              "          const element = document.querySelector('#df-aedaccfe-f59c-4687-bb78-f8e038ffa32f');\n",
              "          const dataTable =\n",
              "            await google.colab.kernel.invokeFunction('convertToInteractive',\n",
              "                                                     [key], {});\n",
              "          if (!dataTable) return;\n",
              "\n",
              "          const docLinkHtml = 'Like what you see? Visit the ' +\n",
              "            '<a target=\"_blank\" href=https://colab.research.google.com/notebooks/data_table.ipynb>data table notebook</a>'\n",
              "            + ' to learn more about interactive tables.';\n",
              "          element.innerHTML = '';\n",
              "          dataTable['output_type'] = 'display_data';\n",
              "          await google.colab.output.renderOutput(dataTable, element);\n",
              "          const docLink = document.createElement('div');\n",
              "          docLink.innerHTML = docLinkHtml;\n",
              "          element.appendChild(docLink);\n",
              "        }\n",
              "      </script>\n",
              "    </div>\n",
              "  </div>\n",
              "  "
            ]
          },
          "metadata": {},
          "execution_count": 47
        }
      ],
      "source": [
        "# ---------------- 資料前處理 -------------------\n",
        "labelencoder = LabelEncoder()\n",
        "data = pd.concat([train_q1, test_q1],axis=0, ignore_index=True)\n",
        "data['Vendor_Name'] = labelencoder.fit_transform(data['Vendor_Name'])\n",
        "data['Model_Name'] = labelencoder.fit_transform(data['Model_Name'])\n",
        "zscore = preprocessing.StandardScaler()\n",
        "data = pd.DataFrame(zscore.fit_transform(data))\n",
        "data.columns = ['Vendor_Name', 'Model_Name','MYCT', 'MMIN', 'MMAX', 'CACH', 'CHMIN', 'CHMAX', 'PRP']\n",
        "train_q1_ohe = data[0:188]\n",
        "test_q1_ohe = data[188:]\n",
        "train_q1_ohe"
      ]
    },
    {
      "cell_type": "code",
      "source": [
        "# 畫圖確認各x對y的影響\n",
        "# 只有PRP有明顯線性關係，保留['PRP']\n",
        "plt.scatter(train_q1_ohe['PRP'], train_q1_y)\n",
        "plt.show()"
      ],
      "metadata": {
        "colab": {
          "base_uri": "https://localhost:8080/",
          "height": 430
        },
        "id": "QUi8GyxZzu9P",
        "outputId": "5f32fe84-8309-46b1-b8d1-dfd03e592cda"
      },
      "execution_count": 48,
      "outputs": [
        {
          "output_type": "display_data",
          "data": {
            "text/plain": [
              "<Figure size 640x480 with 1 Axes>"
            ],
            "image/png": "[encoded data removed]"
          },
          "metadata": {}
        }
      ]
    },
    {
      "cell_type": "code",
      "source": [
        "train_q1_X = train_q1_ohe[['PRP']]"
      ],
      "metadata": {
        "id": "JPc8DqxK0ZIT"
      },
      "execution_count": 49,
      "outputs": []
    },
    {
      "cell_type": "code",
      "execution_count": 50,
      "metadata": {
        "colab": {
          "base_uri": "https://localhost:8080/"
        },
        "id": "iMBKfnUp14U6",
        "outputId": "04350ccd-d213-481d-ce73-57327f77a4f7"
      },
      "outputs": [
        {
          "output_type": "stream",
          "name": "stdout",
          "text": [
            "model intercept =  99.44826071157313\n",
            "coef =  [149.39275884]\n"
          ]
        }
      ],
      "source": [
        "# ---------------- 建立訓練模型 -------------------\n",
        "model = LinearRegression()\n",
        "model.fit(train_q1_X, train_q1_y)\n",
        "print(\"model intercept = \", model.intercept_)\n",
        "print(\"coef = \", model.coef_)"
      ]
    },
    {
      "cell_type": "code",
      "execution_count": 51,
      "metadata": {
        "colab": {
          "base_uri": "https://localhost:8080/",
          "height": 206
        },
        "id": "yEuINltb14U6",
        "outputId": "8260e2f3-9292-4cfc-daf1-930fe0503362"
      },
      "outputs": [
        {
          "output_type": "execute_result",
          "data": {
            "text/plain": [
              "   Actual  Predicted\n",
              "0      24  38.346812\n",
              "1      20  16.000121\n",
              "2     107  70.004624\n",
              "3      47  32.760139\n",
              "4      74  49.520157"
            ],
            "text/html": [
              "\n",
              "  <div id=\"df-2ee46317-bd51-401b-b141-b9067088e2c6\">\n",
              "    <div class=\"colab-df-container\">\n",
              "      <div>\n",
              "<style scoped>\n",
              "    .dataframe tbody tr th:only-of-type {\n",
              "        vertical-align: middle;\n",
              "    }\n",
              "\n",
              "    .dataframe tbody tr th {\n",
              "        vertical-align: top;\n",
              "    }\n",
              "\n",
              "    .dataframe thead th {\n",
              "        text-align: right;\n",
              "    }\n",
              "</style>\n",
              "<table border=\"1\" class=\"dataframe\">\n",
              "  <thead>\n",
              "    <tr style=\"text-align: right;\">\n",
              "      <th></th>\n",
              "      <th>Actual</th>\n",
              "      <th>Predicted</th>\n",
              "    </tr>\n",
              "  </thead>\n",
              "  <tbody>\n",
              "    <tr>\n",
              "      <th>0</th>\n",
              "      <td>24</td>\n",
              "      <td>38.346812</td>\n",
              "    </tr>\n",
              "    <tr>\n",
              "      <th>1</th>\n",
              "      <td>20</td>\n",
              "      <td>16.000121</td>\n",
              "    </tr>\n",
              "    <tr>\n",
              "      <th>2</th>\n",
              "      <td>107</td>\n",
              "      <td>70.004624</td>\n",
              "    </tr>\n",
              "    <tr>\n",
              "      <th>3</th>\n",
              "      <td>47</td>\n",
              "      <td>32.760139</td>\n",
              "    </tr>\n",
              "    <tr>\n",
              "      <th>4</th>\n",
              "      <td>74</td>\n",
              "      <td>49.520157</td>\n",
              "    </tr>\n",
              "  </tbody>\n",
              "</table>\n",
              "</div>\n",
              "      <button class=\"colab-df-convert\" onclick=\"convertToInteractive('df-2ee46317-bd51-401b-b141-b9067088e2c6')\"\n",
              "              title=\"Convert this dataframe to an interactive table.\"\n",
              "              style=\"display:none;\">\n",
              "        \n",
              "  <svg xmlns=\"http://www.w3.org/2000/svg\" height=\"24px\"viewBox=\"0 0 24 24\"\n",
              "       width=\"24px\">\n",
              "    <path d=\"M0 0h24v24H0V0z\" fill=\"none\"/>\n",
              "    <path d=\"M18.56 5.44l.94 2.06.94-2.06 2.06-.94-2.06-.94-.94-2.06-.94 2.06-2.06.94zm-11 1L8.5 8.5l.94-2.06 2.06-.94-2.06-.94L8.5 2.5l-.94 2.06-2.06.94zm10 10l.94 2.06.94-2.06 2.06-.94-2.06-.94-.94-2.06-.94 2.06-2.06.94z\"/><path d=\"M17.41 7.96l-1.37-1.37c-.4-.4-.92-.59-1.43-.59-.52 0-1.04.2-1.43.59L10.3 9.45l-7.72 7.72c-.78.78-.78 2.05 0 2.83L4 21.41c.39.39.9.59 1.41.59.51 0 1.02-.2 1.41-.59l7.78-7.78 2.81-2.81c.8-.78.8-2.07 0-2.86zM5.41 20L4 18.59l7.72-7.72 1.47 1.35L5.41 20z\"/>\n",
              "  </svg>\n",
              "      </button>\n",
              "      \n",
              "  <style>\n",
              "    .colab-df-container {\n",
              "      display:flex;\n",
              "      flex-wrap:wrap;\n",
              "      gap: 12px;\n",
              "    }\n",
              "\n",
              "    .colab-df-convert {\n",
              "      background-color: #E8F0FE;\n",
              "      border: none;\n",
              "      border-radius: 50%;\n",
              "      cursor: pointer;\n",
              "      display: none;\n",
              "      fill: #1967D2;\n",
              "      height: 32px;\n",
              "      padding: 0 0 0 0;\n",
              "      width: 32px;\n",
              "    }\n",
              "\n",
              "    .colab-df-convert:hover {\n",
              "      background-color: #E2EBFA;\n",
              "      box-shadow: 0px 1px 2px rgba(60, 64, 67, 0.3), 0px 1px 3px 1px rgba(60, 64, 67, 0.15);\n",
              "      fill: #174EA6;\n",
              "    }\n",
              "\n",
              "    [theme=dark] .colab-df-convert {\n",
              "      background-color: #3B4455;\n",
              "      fill: #D2E3FC;\n",
              "    }\n",
              "\n",
              "    [theme=dark] .colab-df-convert:hover {\n",
              "      background-color: #434B5C;\n",
              "      box-shadow: 0px 1px 3px 1px rgba(0, 0, 0, 0.15);\n",
              "      filter: drop-shadow(0px 1px 2px rgba(0, 0, 0, 0.3));\n",
              "      fill: #FFFFFF;\n",
              "    }\n",
              "  </style>\n",
              "\n",
              "      <script>\n",
              "        const buttonEl =\n",
              "          document.querySelector('#df-2ee46317-bd51-401b-b141-b9067088e2c6 button.colab-df-convert');\n",
              "        buttonEl.style.display =\n",
              "          google.colab.kernel.accessAllowed ? 'block' : 'none';\n",
              "\n",
              "        async function convertToInteractive(key) {\n",
              "          const element = document.querySelector('#df-2ee46317-bd51-401b-b141-b9067088e2c6');\n",
              "          const dataTable =\n",
              "            await google.colab.kernel.invokeFunction('convertToInteractive',\n",
              "                                                     [key], {});\n",
              "          if (!dataTable) return;\n",
              "\n",
              "          const docLinkHtml = 'Like what you see? Visit the ' +\n",
              "            '<a target=\"_blank\" href=https://colab.research.google.com/notebooks/data_table.ipynb>data table notebook</a>'\n",
              "            + ' to learn more about interactive tables.';\n",
              "          element.innerHTML = '';\n",
              "          dataTable['output_type'] = 'display_data';\n",
              "          await google.colab.output.renderOutput(dataTable, element);\n",
              "          const docLink = document.createElement('div');\n",
              "          docLink.innerHTML = docLinkHtml;\n",
              "          element.appendChild(docLink);\n",
              "        }\n",
              "      </script>\n",
              "    </div>\n",
              "  </div>\n",
              "  "
            ]
          },
          "metadata": {},
          "execution_count": 51
        }
      ],
      "source": [
        "# ---------------- 在測試資料集上預測 -------------------\n",
        "test_q1_X = test_q1_ohe[['PRP']]\n",
        "predict = model.predict(test_q1_X)\n",
        "df_q1 = pd.DataFrame({'Actual' : test_q1_y, 'Predicted' : predict})\n",
        "df_q1.head(5)"
      ]
    },
    {
      "cell_type": "code",
      "execution_count": 52,
      "metadata": {
        "colab": {
          "base_uri": "https://localhost:8080/"
        },
        "id": "4CAAp7t514U6",
        "outputId": "ea0c58ab-f930-44f3-9a6a-6fb6a4c4c154"
      },
      "outputs": [
        {
          "output_type": "stream",
          "name": "stdout",
          "text": [
            "Mean Squared Error:  572.5034780571522\n",
            "Root Mean Squared Error: 23.927044908578914\n"
          ]
        }
      ],
      "source": [
        "# ---------------- 印出測試結果MSE -------------------\n",
        "print('Mean Squared Error: ', mean_squared_error(test_q1_y, predict))\n",
        "print('Root Mean Squared Error:', np.sqrt(mean_squared_error(test_q1_y, predict)))"
      ]
    },
    {
      "cell_type": "markdown",
      "metadata": {
        "id": "CI6vKvn814U6"
      },
      "source": [
        "## 任務2 數值分類\n"
      ]
    },
    {
      "cell_type": "markdown",
      "metadata": {
        "id": "I7bDiYP414U6"
      },
      "source": [
        "### 資料描述\n",
        "該資料集包含27個描述不鏽鋼板表面瑕疵幾何形狀輪廓之特徵與其瑕疵類別。\n",
        "\n",
        "### 目標\n",
        "1. 請從train.csv檔案中讀取訓練集資料進行分類模型建模，並對test.csv內的資料進行類別預測，Y_defect_type為預測目標，其餘為特徵。\n",
        "2. 將程式碼依照其功能放置於「讀取資料」、「資料前處理」、「建立訓練模型」和「測試資料集上預測」儲存格內\n",
        "3. 在程式碼尾端使用print()印出測試結果準確率\n",
        "\n",
        "##### 來源\n",
        "*https://archive.ics.uci.edu/ml/datasets/steel+plates+faults*\n",
        "\n",
        "### 程式碼"
      ]
    },
    {
      "cell_type": "code",
      "source": [
        "from sklearn.neighbors import KNeighborsClassifier\n",
        "from sklearn import metrics\n",
        "from sklearn.metrics import accuracy_score\n",
        "from sklearn.decomposition import PCA"
      ],
      "metadata": {
        "id": "51yHmThD7qOR"
      },
      "execution_count": 53,
      "outputs": []
    },
    {
      "cell_type": "code",
      "execution_count": 54,
      "metadata": {
        "id": "g6sC8ffP14U6"
      },
      "outputs": [],
      "source": [
        "# ---------------- 讀取資料 -------------------\n",
        "train_q2 = pd.read_csv('gdrive/My Drive/fourth/ML/Steel Plates Faults(classification)/train.csv')\n",
        "test_q2 = pd.read_csv('gdrive/My Drive/fourth/ML/Steel Plates Faults(classification)/test.csv')\n",
        "train_q2_y = train_q2['Y_defect_type']\n",
        "train_q2 = train_q2.drop([\"Y_defect_type\"], axis=1)\n",
        "test_q2_y = test_q2['Y_defect_type']\n",
        "test_q2 = test_q2.drop(['Y_defect_type'], axis=1)"
      ]
    },
    {
      "cell_type": "code",
      "execution_count": 55,
      "metadata": {
        "id": "KTim5vkF14U7"
      },
      "outputs": [],
      "source": [
        "# ---------------- 資料前處理 -------------------\n",
        "data_q2 = pd.concat([train_q2, test_q2],axis=0, ignore_index=True)\n",
        "data_q2 = pd.DataFrame(zscore.fit_transform(data_q2))\n",
        "train_q2_zs = data_q2[0:1746]\n",
        "test_q2_zs = data_q2[1746:]\n",
        "pca = PCA(n_components=11)\n",
        "pca.fit(train_q2_zs)\n",
        "X_pca = pca.transform(train_q2_zs)\n",
        "X_pca_test = pca.transform(test_q2_zs)"
      ]
    },
    {
      "cell_type": "code",
      "execution_count": 56,
      "metadata": {
        "id": "O6EsO3WH14U7"
      },
      "outputs": [],
      "source": [
        "# ---------------- 建立訓練模型 -------------------\n",
        "# ---------------- 在測試資料集上預測 -------------------\n",
        "accuracy_q2 = 0\n",
        "k_highest = 0\n",
        "prediction = []\n",
        "for i in range(2, 8):\n",
        "  knn = KNeighborsClassifier(n_neighbors = i)\n",
        "  model_knn = knn.fit(X_pca, train_q2_y)\n",
        "  q2_predict = model_knn.predict(X_pca_test)\n",
        "  acc = accuracy_score(test_q2_y, q2_predict)\n",
        "  if acc > accuracy_q2:\n",
        "    accuracy_q2 = acc\n",
        "    k_highest = i\n",
        "    prediction = q2_predict"
      ]
    },
    {
      "cell_type": "code",
      "execution_count": 57,
      "metadata": {
        "colab": {
          "base_uri": "https://localhost:8080/"
        },
        "id": "u61CBh9q14U7",
        "outputId": "096732b5-a773-4451-9bac-84b01cf1b7db"
      },
      "outputs": [
        {
          "output_type": "stream",
          "name": "stdout",
          "text": [
            "在k為 5 時, 有最高準確率 : 0.8974358974358975\n"
          ]
        }
      ],
      "source": [
        "# ---------------- 印出測試結果準確率 -------------------\n",
        "print('在k為', k_highest, \"時, 有最高準確率 :\", accuracy_q2)"
      ]
    },
    {
      "cell_type": "markdown",
      "metadata": {
        "id": "_mdHA4IR14U7"
      },
      "source": [
        "----------------------------------------"
      ]
    },
    {
      "cell_type": "markdown",
      "metadata": {
        "id": "geFqOSuC14U7"
      },
      "source": [
        "# Task 0 (Demo)"
      ]
    },
    {
      "cell_type": "markdown",
      "metadata": {
        "id": "509nKb2614U7"
      },
      "source": [
        "以鳶尾花資料集示範作業上傳格式，程式碼內容請依照題目要求撰寫。"
      ]
    },
    {
      "cell_type": "code",
      "execution_count": 58,
      "metadata": {
        "id": "1_2QKU1T14U7"
      },
      "outputs": [],
      "source": [
        "# ---------------- 讀取資料 -------------------\n",
        "from sklearn.datasets import load_iris\n",
        "import pandas as pd\n",
        "import numpy as np\n",
        "import matplotlib.pyplot as plt\n",
        "from sklearn.linear_model import LogisticRegression\n",
        "\n",
        "iris = load_iris()"
      ]
    },
    {
      "cell_type": "code",
      "execution_count": 59,
      "metadata": {
        "id": "TlGA-sbC14U7"
      },
      "outputs": [],
      "source": [
        "# ---------------- 資料前處理 -------------------\n",
        "# 讀取特徵\n",
        "X = iris.data\n",
        "# 讀取特徵\n",
        "y = iris.target\n",
        "\n",
        "iris = load_iris()\n",
        "df_data = pd.DataFrame(data= np.c_[iris['data'], iris['target']],\n",
        "                       columns= ['SepalLengthCm','SepalWidthCm','PetalLengthCm','PetalWidthCm','Species'])"
      ]
    },
    {
      "cell_type": "code",
      "execution_count": 60,
      "metadata": {
        "colab": {
          "base_uri": "https://localhost:8080/"
        },
        "id": "n4tGtzMe14U8",
        "outputId": "e4f5c728-864f-46d7-9a90-dba837f1f3d5"
      },
      "outputs": [
        {
          "output_type": "stream",
          "name": "stderr",
          "text": [
            "/usr/local/lib/python3.9/dist-packages/sklearn/linear_model/_logistic.py:458: ConvergenceWarning: lbfgs failed to converge (status=1):\n",
            "STOP: TOTAL NO. of ITERATIONS REACHED LIMIT.\n",
            "\n",
            "Increase the number of iterations (max_iter) or scale the data as shown in:\n",
            "    https://scikit-learn.org/stable/modules/preprocessing.html\n",
            "Please also refer to the documentation for alternative solver options:\n",
            "    https://scikit-learn.org/stable/modules/linear_model.html#logistic-regression\n",
            "  n_iter_i = _check_optimize_result(\n"
          ]
        }
      ],
      "source": [
        "# ---------------- 建立訓練模型 -------------------\n",
        "lr = LogisticRegression()\n",
        "model = lr.fit(X, y)"
      ]
    },
    {
      "cell_type": "code",
      "execution_count": 61,
      "metadata": {
        "id": "nTTIVAy_14U8"
      },
      "outputs": [],
      "source": [
        "# ---------------- 在測試資料集上預測 -------------------\n",
        "accuracy = model.score(X, y)"
      ]
    },
    {
      "cell_type": "code",
      "execution_count": 62,
      "metadata": {
        "colab": {
          "base_uri": "https://localhost:8080/"
        },
        "id": "Ja9MBri914U8",
        "outputId": "0d8c2451-f331-412a-e20a-c0ab15ff4501"
      },
      "outputs": [
        {
          "output_type": "stream",
          "name": "stdout",
          "text": [
            "測試結果準確率:  0.9733333333333334\n"
          ]
        }
      ],
      "source": [
        "# ---------------- 印出測試結果準確率 -------------------\n",
        "print('測試結果準確率: ', accuracy)"
      ]
    },
    {
      "cell_type": "code",
      "source": [],
      "metadata": {
        "id": "jkP4KYcg_iiB"
      },
      "execution_count": null,
      "outputs": []
    }
  ],
  "metadata": {
    "colab": {
      "provenance": []
    },
    "kernelspec": {
      "display_name": "Python 3 (ipykernel)",
      "language": "python",
      "name": "python3"
    },
    "language_info": {
      "codemirror_mode": {
        "name": "ipython",
        "version": 3
      },
      "file_extension": ".py",
      "mimetype": "text/x-python",
      "name": "python",
      "nbconvert_exporter": "python",
      "pygments_lexer": "ipython3",
      "version": "3.8.16"
    }
  },
  "nbformat": 4,
  "nbformat_minor": 0
}