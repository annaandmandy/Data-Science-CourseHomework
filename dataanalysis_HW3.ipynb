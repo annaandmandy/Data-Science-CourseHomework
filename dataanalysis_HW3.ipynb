{
 "cells": [
  {
   "cell_type": "code",
   "execution_count": 1,
   "id": "dec7615b",
   "metadata": {},
   "outputs": [],
   "source": [
    "import pandas as pd\n",
    "import numpy as np\n",
    "\n",
    "mpg = open(\"D:/Anna/Anna/fourth2/analysis/HW3/auto-mpg_data.txt\")\n",
    "df = pd.DataFrame(columns = ['car name', 'mpg', 'cylinders', 'displacement', 'horsepower', 'weight', 'acceleration', 'model year', 'origin'])\n",
    "mpg_list = []\n",
    "cars = []\n",
    "for i in mpg:\n",
    "    a = i.split(\"\\'\")\n",
    "    mpg_list.append(a[0])\n",
    "    \n",
    "for data in mpg_list:\n",
    "    data = data.split(\"\\\"\")\n",
    "    cars.append(data)\n",
    "\n",
    "for c in cars:\n",
    "    nums = c[0].strip(\"\\t\")\n",
    "    nums = nums.split(\" \")\n",
    "    informations = []\n",
    "    informations.append(c[1])\n",
    "    for n in nums:\n",
    "        if n != \" \" and n != \"\" and n != \"?\":\n",
    "            try:\n",
    "                informations.append(int(n))\n",
    "            except ValueError:\n",
    "                informations.append(float(n))\n",
    "        if n == \"?\":\n",
    "            informations.append(np.nan)\n",
    "    df.loc[len(df)] = informations\n",
    "df.set_index('car name', inplace = True)\n",
    "\n",
    "# fill the ? number with mean\n",
    "df[\"horsepower\"] = df[\"horsepower\"].fillna(df[\"horsepower\"].mean())"
   ]
  },
  {
   "cell_type": "code",
   "execution_count": 2,
   "id": "556ca850",
   "metadata": {},
   "outputs": [
    {
     "name": "stdout",
     "output_type": "stream",
     "text": [
      " For  mpg \n",
      " R square is :  0.8209019153826466 \n",
      " VIF is :  5.583532633174272\n",
      "---------------------------\n",
      " For  cylinders \n",
      " R square is :  0.9069092906118217 \n",
      " VIF is :  10.742210544664632\n",
      "---------------------------\n",
      " For  displacement \n",
      " R square is :  0.9548634015164353 \n",
      " VIF is :  22.154970325557972\n",
      "---------------------------\n",
      " For  horsepower \n",
      " R square is :  0.8893232425691762 \n",
      " VIF is :  9.035320723278588\n",
      "---------------------------\n",
      " For  weight \n",
      " R square is :  0.9257323912540217 \n",
      " VIF is :  13.464820220890065\n",
      "---------------------------\n",
      " For  acceleration \n",
      " R square is :  0.6021641524225465 \n",
      " VIF is :  2.5135995312873685\n",
      "---------------------------\n",
      " For  model year \n",
      " R square is :  0.4884429978631091 \n",
      " VIF is :  1.9548163661581615\n",
      "---------------------------\n",
      " For  origin \n",
      " R square is :  0.4602784832082042 \n",
      " VIF is :  1.8528073624786805\n",
      "---------------------------\n"
     ]
    }
   ],
   "source": [
    "from sklearn.linear_model import LinearRegression\n",
    "\n",
    "for i in df.columns:\n",
    "    y = df[i]\n",
    "    X = df.drop(i, axis = 1)\n",
    "    model = LinearRegression()\n",
    "    model = model.fit(X, y)\n",
    "    print(\" For \", i,\"\\n\", \"R square is : \",model.score(X, y), \"\\n\",\"VIF is : \", 1 / (1 - model.score(X, y)))\n",
    "    print(\"---------------------------\")"
   ]
  },
  {
   "cell_type": "markdown",
   "id": "ee275e98",
   "metadata": {},
   "source": [
    "We can observe that for cylinders, displacement and weight, their VIF is more than 10, which means these variables are highly correlated to other variables, the model may have a high multicollinearity problem. We should remove displacement(the highest VIF) and try to rebuilt the model until all the VIFs is under 10."
   ]
  },
  {
   "cell_type": "code",
   "execution_count": null,
   "id": "b0843b10",
   "metadata": {},
   "outputs": [],
   "source": []
  }
 ],
 "metadata": {
  "kernelspec": {
   "display_name": "Python 3 (ipykernel)",
   "language": "python",
   "name": "python3"
  },
  "language_info": {
   "codemirror_mode": {
    "name": "ipython",
    "version": 3
   },
   "file_extension": ".py",
   "mimetype": "text/x-python",
   "name": "python",
   "nbconvert_exporter": "python",
   "pygments_lexer": "ipython3",
   "version": "3.9.6"
  }
 },
 "nbformat": 4,
 "nbformat_minor": 5
}
