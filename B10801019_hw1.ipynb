{
 "cells": [
  {
   "cell_type": "code",
   "execution_count": 21,
   "id": "4506a88d",
   "metadata": {},
   "outputs": [
    {
     "data": {
      "image/png": "[encoded data removed]",
      "text/plain": [
       "<Figure size 432x288 with 4 Axes>"
      ]
     },
     "metadata": {
      "needs_background": "light"
     },
     "output_type": "display_data"
    }
   ],
   "source": [
    "# HW1 Question 11\n",
    "import numpy as np\n",
    "import matplotlib.pyplot as plt\n",
    "import random\n",
    "from matplotlib.ticker import PercentFormatter\n",
    "\n",
    "# variable\n",
    "roll_dice = 1000\n",
    "dice_num = 4\n",
    "sample_means = [[],[],[],[]]\n",
    "\n",
    "# roll the dice\n",
    "for d in range(dice_num):\n",
    "    for i in range(roll_dice):\n",
    "        sum = 0\n",
    "        for n in range(d + 2):\n",
    "            sum += random.randint(1, 6)\n",
    "        sample_means[d].append(sum/(d + 2))\n",
    "\n",
    "# draw the four histograms\n",
    "fig, axs = plt.subplots(2, 2)\n",
    "axs = axs.flatten()\n",
    "for i in range(dice_num):\n",
    "    axs[i].hist(sample_means[i], bins = 45, weights=np.ones(len(sample_means[i])) / len(sample_means[i]))\n",
    "    axs[i].set_title(f\"Mean of {i+2} dice\")"
   ]
  },
  {
   "cell_type": "code",
   "execution_count": 22,
   "id": "d0491df5",
   "metadata": {},
   "outputs": [
    {
     "name": "stdout",
     "output_type": "stream",
     "text": [
      "card = 52, face step = 1, probability = 0.8213\n",
      "card = 52, face step = 3, probability = 0.7115\n",
      "card = 52, face step = 5, probability = 0.5869\n",
      "card = 52, face step = 7, probability = 0.4597\n",
      "card = 52, face step = 9, probability = 0.3394\n",
      "card = 104, face step = 1, probability = 0.991\n",
      "card = 104, face step = 3, probability = 0.9719\n",
      "card = 104, face step = 5, probability = 0.9389\n",
      "card = 104, face step = 7, probability = 0.8897\n",
      "card = 104, face step = 9, probability = 0.8154\n"
     ]
    }
   ],
   "source": [
    "# HW1 Question 12\n",
    "def kruskal_count(card_num, face_step):\n",
    "    same_time = 0\n",
    "    for c in range(10000):\n",
    "        # randomly sort the cards\n",
    "        cards = [i % 13 for i in range(card_num)]\n",
    "        random.shuffle(cards)\n",
    "        end = 0\n",
    "        same_end = True\n",
    "        # start with the first 10 cards\n",
    "        for s in range(10):\n",
    "            finish = 0\n",
    "            while finish == 0:\n",
    "                if cards[s] in [10, 11, 12]:\n",
    "                    step = face_step\n",
    "                else:\n",
    "                    step = cards[s] + 1\n",
    "                if s + step < card_num:\n",
    "                    s += step\n",
    "                else:\n",
    "                    finish = 1\n",
    "                    if end == 0:\n",
    "                        end = s\n",
    "                    # if end is not the same, break\n",
    "                    if end != s:\n",
    "                        same_end = False\n",
    "                        break\n",
    "            if same_end == False:\n",
    "                break\n",
    "        # count the same time\n",
    "        if same_end == True:\n",
    "            same_time += 1\n",
    "    return same_time/10000\n",
    "\n",
    "for i in [52, 104]:\n",
    "    for j in [1,3,5,7,9]:\n",
    "        s = kruskal_count(i, j)\n",
    "        print(f\"card = {i}, face step = {j}, probability = {s}\")"
   ]
  },
  {
   "cell_type": "markdown",
   "id": "be8ae3b9",
   "metadata": {},
   "source": [
    "There is a higher chance for you to reach the same end with the greater amount of cards an with a lesser face step. "
   ]
  }
 ],
 "metadata": {
  "kernelspec": {
   "display_name": "Python 3 (ipykernel)",
   "language": "python",
   "name": "python3"
  },
  "language_info": {
   "codemirror_mode": {
    "name": "ipython",
    "version": 3
   },
   "file_extension": ".py",
   "mimetype": "text/x-python",
   "name": "python",
   "nbconvert_exporter": "python",
   "pygments_lexer": "ipython3",
   "version": "3.9.6"
  }
 },
 "nbformat": 4,
 "nbformat_minor": 5
}
